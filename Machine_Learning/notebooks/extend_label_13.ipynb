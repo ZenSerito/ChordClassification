{
 "cells": [
  {
   "cell_type": "code",
   "execution_count": 2,
   "metadata": {},
   "outputs": [
    {
     "name": "stdout",
     "output_type": "stream",
     "text": [
      "All JSON files have been updated successfully.\n"
     ]
    }
   ],
   "source": [
    "import os\n",
    "import json\n",
    "\n",
    "# Path to the dataset_json folder\n",
    "folder_path = \"C:\\\\Users\\\\DELL\\\\Desktop\\\\Pulchowk\\\\Major Project\\\\ChordClassification\\\\ChordClassification\\\\dataset_json\"\n",
    "\n",
    "# Loop through all JSON files in the folder\n",
    "for filename in os.listdir(folder_path):\n",
    "    if filename.endswith(\".json\"):  # Ensure it's a JSON file\n",
    "        file_path = os.path.join(folder_path, filename)\n",
    "        \n",
    "        # Read the JSON file\n",
    "        with open(file_path, \"r\") as f:\n",
    "            data = json.load(f)\n",
    "        \n",
    "        # Add three more zeros to the \"labels\" list\n",
    "        for label in data[\"labels\"]:\n",
    "            label.extend([0, 0, 0])  # Add [0, 0, 0] at the end\n",
    "        \n",
    "        # Save the updated JSON file\n",
    "        with open(file_path, \"w\") as f:\n",
    "            json.dump(data, f, indent=4)\n",
    "\n",
    "print(\"All JSON files have been updated successfully.\")\n"
   ]
  },
  {
   "cell_type": "code",
   "execution_count": 4,
   "metadata": {},
   "outputs": [
    {
     "name": "stdout",
     "output_type": "stream",
     "text": [
      "Audio splitting completed successfully.\n"
     ]
    }
   ],
   "source": [
    "from pydub import AudioSegment\n",
    "import os\n",
    "\n",
    "# Define input and output folders\n",
    "input_folder_root = \"C:\\\\Users\\\\DELL\\\\Desktop\\\\Pulchowk\\\\Major Project\\\\ChordClassification\\\\Chords\"   # Folder with original .wav files\n",
    "output_folder_root = \"C:\\\\Users\\\\DELL\\\\Desktop\\\\Pulchowk\\\\Major Project\\\\ChordClassification\\\\Chords_per_sec\" # Folder to save 1-sec chunks\n",
    "\n",
    "for c in ['B','A#','A#m']:\n",
    "    input_folder = input_folder_root + \"\\\\\" + c\n",
    "    output_folder= output_folder_root + \"\\\\\" + c\n",
    "    # Ensure output folder exists\n",
    "    os.makedirs(output_folder, exist_ok=True)\n",
    "\n",
    "    # Process each WAV file in the input folder\n",
    "    for filename in os.listdir(input_folder):\n",
    "        if filename.endswith(\".wav\"):  # Process only .wav files\n",
    "            file_path = os.path.join(input_folder, filename)\n",
    "            audio = AudioSegment.from_wav(file_path)\n",
    "            \n",
    "            duration_ms = len(audio)  # Get duration in milliseconds\n",
    "            chunk_length_ms = 1000    # 1 second (1000ms)\n",
    "            \n",
    "            # Split into 1-second chunks\n",
    "            for i, start in enumerate(range(0, duration_ms, chunk_length_ms)):\n",
    "                chunk = audio[start:start + chunk_length_ms]  # Extract 1-sec segment\n",
    "                \n",
    "                # Save the chunk as a new file\n",
    "                chunk_filename = f\"{filename[:-4]}_part{i+1}.wav\"\n",
    "                chunk.export(os.path.join(output_folder, chunk_filename), format=\"wav\")\n",
    "\n",
    "print(\"Audio splitting completed successfully.\")\n"
   ]
  }
 ],
 "metadata": {
  "kernelspec": {
   "display_name": ".venv",
   "language": "python",
   "name": "python3"
  },
  "language_info": {
   "codemirror_mode": {
    "name": "ipython",
    "version": 3
   },
   "file_extension": ".py",
   "mimetype": "text/x-python",
   "name": "python",
   "nbconvert_exporter": "python",
   "pygments_lexer": "ipython3",
   "version": "3.11.3"
  }
 },
 "nbformat": 4,
 "nbformat_minor": 2
}
