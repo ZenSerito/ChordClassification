{
 "cells": [
  {
   "cell_type": "markdown",
   "metadata": {},
   "source": [
    "### **Converting .json files to tf.constant**"
   ]
  },
  {
   "cell_type": "code",
   "execution_count": null,
   "metadata": {},
   "outputs": [],
   "source": [
    "import os\n",
    "import tensorflow as tf\n",
    "import json\n",
    "import numpy as np\n",
    "\n",
    "dataset_json_path = \"C:\\\\Users\\\\DELL\\\\Desktop\\\\Pulchowk\\\\Major Project\\\\ChordClassification\\\\ChordClassification\\\\dataset_json\"\n",
    "c = 1\n",
    "a=0\n",
    "\n",
    "# List all files in the folder\n",
    "for file_name in os.listdir(dataset_json_path):\n",
    "    file_path = os.path.join(dataset_json_path, file_name)  # Full file path\n",
    "    \n",
    "    if file_name.endswith(\".json\"):  # Process only .json files\n",
    "        with open(file_path, \"r\") as json_file:  # Open the file\n",
    "            json_data = json.load(json_file)  # Load JSON content\n",
    "            # print(json_data)  # Debugging: print JSON content\n",
    "\n",
    "    \n",
    "            # Convert JSON data to TF-compatible format\n",
    "            if isinstance(json_data, dict):\n",
    "                # Assuming a dictionary with scalar values\n",
    "                tf_data = {k: tf.constant(v) for k, v in json_data.items()}\n",
    "            elif isinstance(json_data, list):\n",
    "                # Assuming a list of scalars or arrays\n",
    "                tf_data = [tf.constant(x) for x in json_data]\n",
    "            elif isinstance(json_data, np.ndarray):\n",
    "                # Assuming a JSON-encoded NumPy array\n",
    "                tf_data = tf.constant(json_data)\n",
    "            else:\n",
    "                raise ValueError(\"Unsupported JSON data structure\")\n",
    "            print(tf_data)\n",
    "\n",
    "\n",
    "            if c == 1:\n",
    "                tf_data_X = tf.constant(tf_data['pitch'])\n",
    "                tf_data_Y = tf.constant(tf_data['labels'])\n",
    "                c = 0\n",
    "            else:\n",
    "                tf_data_X = tf.concat([tf_data_X, tf.constant(tf_data['pitch'])], axis=0)\n",
    "                tf_data_Y = tf.concat([tf_data_Y, tf.constant(tf_data['labels'])], axis=0)\n",
    "\n",
    "print(tf_data_X.shape)\n",
    "print(tf_data_Y.shape)\n",
    "# print(tf_data_X)\n",
    "# print(tf_data_Y)"
   ]
  },
  {
   "cell_type": "code",
   "execution_count": 2,
   "metadata": {},
   "outputs": [],
   "source": [
    "# Cast tf_data_Y to float32 to match tf_data_X\n",
    "tf_data_Y = tf.cast(tf_data_Y, tf.float32)"
   ]
  },
  {
   "cell_type": "code",
   "execution_count": null,
   "metadata": {},
   "outputs": [],
   "source": [
    "import numpy as np\n",
    "\n",
    "# Check if there are any NaN values\n",
    "print(\"NaN in tf_data_X:\", np.isnan(tf_data_X).any())  \n",
    "\n",
    "# Get indices of NaN values\n",
    "nan_indices = np.argwhere(np.isnan(tf_data_X))  \n",
    "\n",
    "# Print the locations (row, column) of NaNs\n",
    "print(\"NaN locations in tf_data_X:\", nan_indices)\n"
   ]
  },
  {
   "cell_type": "code",
   "execution_count": null,
   "metadata": {},
   "outputs": [],
   "source": []
  },
  {
   "cell_type": "code",
   "execution_count": 3,
   "metadata": {},
   "outputs": [
    {
     "name": "stdout",
     "output_type": "stream",
     "text": [
      "(3268, 25)\n",
      "tf.Tensor(\n",
      "[[0.06438943 0.14778799 0.06286415 ... 0.         0.         1.        ]\n",
      " [0.05730631 0.21261251 0.05818551 ... 0.         0.         1.        ]\n",
      " [0.067454   0.13290407 0.0649313  ... 0.         0.         1.        ]\n",
      " ...\n",
      " [0.00851205 0.00818775 0.4770042  ... 0.         0.         0.        ]\n",
      " [0.01338249 0.01540688 0.42645866 ... 0.         0.         0.        ]\n",
      " [0.0080606  0.00664939 0.5191406  ... 0.         0.         0.        ]], shape=(3268, 25), dtype=float32)\n"
     ]
    }
   ],
   "source": [
    "tf_dataset = tf.concat([tf_data_X, tf_data_Y], axis=-1)\n",
    "print(tf_dataset.shape)\n",
    "print(tf_dataset)"
   ]
  },
  {
   "cell_type": "code",
   "execution_count": 4,
   "metadata": {},
   "outputs": [
    {
     "name": "stdout",
     "output_type": "stream",
     "text": [
      "tf.Tensor(\n",
      "[[0.00505551 0.02977922 0.00381717 0.5372573  0.00580139 0.00489989\n",
      "  0.21231362 0.00519926 0.00403774 0.00518626 0.03076752 0.15588507\n",
      "  0.         0.         0.         0.         0.         0.\n",
      "  0.         0.         0.         0.         1.         0.\n",
      "  0.        ]\n",
      " [0.05705078 0.20869803 0.05553114 0.01082744 0.00342694 0.29102072\n",
      "  0.00810563 0.01176168 0.06604204 0.06126196 0.21499927 0.01127439\n",
      "  0.         0.         0.         0.         0.         0.\n",
      "  0.         0.         0.         0.         0.         0.\n",
      "  1.        ]\n",
      " [0.03254386 0.45102262 0.016755   0.01536787 0.00469075 0.17737752\n",
      "  0.00526298 0.00693705 0.09797541 0.0172039  0.15118311 0.02367993\n",
      "  0.         0.         0.         0.         0.         0.\n",
      "  0.         0.         0.         0.         0.         0.\n",
      "  1.        ]\n",
      " [0.2468064  0.00540757 0.0290909  0.00202069 0.5243827  0.01156784\n",
      "  0.01553082 0.14158827 0.00620691 0.00401226 0.00532459 0.00806103\n",
      "  0.         0.         0.         1.         0.         0.\n",
      "  0.         0.         0.         0.         0.         0.\n",
      "  0.        ]\n",
      " [0.01827593 0.02215498 0.29682153 0.01304706 0.11647771 0.02822321\n",
      "  0.02218328 0.00855974 0.0061647  0.4557472  0.00432034 0.00802431\n",
      "  0.         0.         0.         0.         0.         1.\n",
      "  0.         0.         0.         0.         0.         0.\n",
      "  0.        ]], shape=(5, 25), dtype=float32)\n"
     ]
    }
   ],
   "source": [
    "tf_dataset = tf.random.shuffle(tf_dataset)\n",
    "print(tf_dataset[:5])"
   ]
  },
  {
   "cell_type": "code",
   "execution_count": 5,
   "metadata": {},
   "outputs": [
    {
     "name": "stdout",
     "output_type": "stream",
     "text": [
      "tf.Tensor(\n",
      "[[0.00505551 0.02977922 0.00381717 0.5372573  0.00580139 0.00489989\n",
      "  0.21231362 0.00519926 0.00403774 0.00518626 0.03076752 0.15588507]\n",
      " [0.05705078 0.20869803 0.05553114 0.01082744 0.00342694 0.29102072\n",
      "  0.00810563 0.01176168 0.06604204 0.06126196 0.21499927 0.01127439]\n",
      " [0.03254386 0.45102262 0.016755   0.01536787 0.00469075 0.17737752\n",
      "  0.00526298 0.00693705 0.09797541 0.0172039  0.15118311 0.02367993]\n",
      " [0.2468064  0.00540757 0.0290909  0.00202069 0.5243827  0.01156784\n",
      "  0.01553082 0.14158827 0.00620691 0.00401226 0.00532459 0.00806103]\n",
      " [0.01827593 0.02215498 0.29682153 0.01304706 0.11647771 0.02822321\n",
      "  0.02218328 0.00855974 0.0061647  0.4557472  0.00432034 0.00802431]], shape=(5, 12), dtype=float32)\n"
     ]
    }
   ],
   "source": [
    "X = tf_dataset[:,:-13]\n",
    "print(X[:5])"
   ]
  },
  {
   "cell_type": "code",
   "execution_count": 6,
   "metadata": {},
   "outputs": [
    {
     "name": "stdout",
     "output_type": "stream",
     "text": [
      "(5, 13)\n",
      "tf.Tensor(\n",
      "[[0. 0. 0. 0. 0. 0. 0. 0. 0. 0. 1. 0. 0.]\n",
      " [0. 0. 0. 0. 0. 0. 0. 0. 0. 0. 0. 0. 1.]\n",
      " [0. 0. 0. 0. 0. 0. 0. 0. 0. 0. 0. 0. 1.]\n",
      " [0. 0. 0. 1. 0. 0. 0. 0. 0. 0. 0. 0. 0.]\n",
      " [0. 0. 0. 0. 0. 1. 0. 0. 0. 0. 0. 0. 0.]], shape=(5, 13), dtype=float32)\n"
     ]
    }
   ],
   "source": [
    "y = tf_dataset[:,-13:]\n",
    "print(y[:5].shape)\n",
    "print(y[:5])\n",
    "# y = tf.expand_dims(y, axis = -1)\n",
    "# print(y[:5])"
   ]
  },
  {
   "cell_type": "code",
   "execution_count": 7,
   "metadata": {},
   "outputs": [
    {
     "name": "stdout",
     "output_type": "stream",
     "text": [
      "(3268, 12)\n"
     ]
    }
   ],
   "source": [
    "print(X.shape)"
   ]
  },
  {
   "cell_type": "code",
   "execution_count": 49,
   "metadata": {},
   "outputs": [
    {
     "name": "stdout",
     "output_type": "stream",
     "text": [
      "NaN in X: True\n",
      "NaN locations in X: [[  70    0]\n",
      " [  70    1]\n",
      " [  70    2]\n",
      " [  70    3]\n",
      " [  70    4]\n",
      " [  70    5]\n",
      " [  70    6]\n",
      " [  70    7]\n",
      " [  70    8]\n",
      " [  70    9]\n",
      " [  70   10]\n",
      " [  70   11]\n",
      " [1388    0]\n",
      " [1388    1]\n",
      " [1388    2]\n",
      " [1388    3]\n",
      " [1388    4]\n",
      " [1388    5]\n",
      " [1388    6]\n",
      " [1388    7]\n",
      " [1388    8]\n",
      " [1388    9]\n",
      " [1388   10]\n",
      " [1388   11]\n",
      " [1674    0]\n",
      " [1674    1]\n",
      " [1674    2]\n",
      " [1674    3]\n",
      " [1674    4]\n",
      " [1674    5]\n",
      " [1674    6]\n",
      " [1674    7]\n",
      " [1674    8]\n",
      " [1674    9]\n",
      " [1674   10]\n",
      " [1674   11]]\n"
     ]
    }
   ],
   "source": [
    "import numpy as np\n",
    "\n",
    "# Check if there are any NaN values\n",
    "print(\"NaN in X:\", np.isnan(X).any())  \n",
    "\n",
    "# Get indices of NaN values\n",
    "nan_indices = np.argwhere(np.isnan(X))  \n",
    "\n",
    "# Print the locations (row, column) of NaNs\n",
    "print(\"NaN locations in X:\", nan_indices)\n"
   ]
  },
  {
   "cell_type": "code",
   "execution_count": 8,
   "metadata": {},
   "outputs": [
    {
     "name": "stdout",
     "output_type": "stream",
     "text": [
      "3268\n"
     ]
    }
   ],
   "source": [
    "TRAIN_RATIO = 0.8\n",
    "VAL_RATIO = 0.1\n",
    "TEST_RATIO = 0.1\n",
    "DATASET_SIZE = len(X)\n",
    "print(DATASET_SIZE)"
   ]
  },
  {
   "cell_type": "code",
   "execution_count": 46,
   "metadata": {},
   "outputs": [
    {
     "name": "stdout",
     "output_type": "stream",
     "text": [
      "(2614, 12)\n",
      "tf.Tensor(\n",
      "[[0.00505551 0.02977922 0.00381717 ... 0.00518626 0.03076752 0.15588507]\n",
      " [0.05705078 0.20869803 0.05553114 ... 0.06126196 0.21499927 0.01127439]\n",
      " [0.03254386 0.45102262 0.016755   ... 0.0172039  0.15118311 0.02367993]\n",
      " ...\n",
      " [0.00652646 0.002096   0.0346808  ... 0.00279985 0.00710791 0.18805982]\n",
      " [0.02457247 0.02119709 0.01058749 ... 0.01966442 0.01073453 0.5773272 ]\n",
      " [0.07140636 0.01030046 0.31956702 ... 0.06748024 0.1635462  0.00632773]], shape=(2614, 12), dtype=float32)\n",
      "(2614, 13)\n"
     ]
    }
   ],
   "source": [
    "X_train = X[:int(DATASET_SIZE*TRAIN_RATIO)]\n",
    "y_train = y[:int(DATASET_SIZE*TRAIN_RATIO)]\n",
    "print(X_train.shape)\n",
    "print(X_train)\n",
    "print(y_train.shape)"
   ]
  },
  {
   "cell_type": "code",
   "execution_count": 47,
   "metadata": {},
   "outputs": [
    {
     "name": "stdout",
     "output_type": "stream",
     "text": [
      "NaN in X_train: True\n",
      "NaN locations in X_train: [[  70    0]\n",
      " [  70    1]\n",
      " [  70    2]\n",
      " [  70    3]\n",
      " [  70    4]\n",
      " [  70    5]\n",
      " [  70    6]\n",
      " [  70    7]\n",
      " [  70    8]\n",
      " [  70    9]\n",
      " [  70   10]\n",
      " [  70   11]\n",
      " [1388    0]\n",
      " [1388    1]\n",
      " [1388    2]\n",
      " [1388    3]\n",
      " [1388    4]\n",
      " [1388    5]\n",
      " [1388    6]\n",
      " [1388    7]\n",
      " [1388    8]\n",
      " [1388    9]\n",
      " [1388   10]\n",
      " [1388   11]\n",
      " [1674    0]\n",
      " [1674    1]\n",
      " [1674    2]\n",
      " [1674    3]\n",
      " [1674    4]\n",
      " [1674    5]\n",
      " [1674    6]\n",
      " [1674    7]\n",
      " [1674    8]\n",
      " [1674    9]\n",
      " [1674   10]\n",
      " [1674   11]]\n"
     ]
    }
   ],
   "source": [
    "import numpy as np\n",
    "\n",
    "# Check if there are any NaN values\n",
    "print(\"NaN in X_train:\", np.isnan(X_train).any())  \n",
    "\n",
    "# Get indices of NaN values\n",
    "nan_indices = np.argwhere(np.isnan(X_train))  \n",
    "\n",
    "# Print the locations (row, column) of NaNs\n",
    "print(\"NaN locations in X_train:\", nan_indices)\n"
   ]
  },
  {
   "cell_type": "code",
   "execution_count": 10,
   "metadata": {},
   "outputs": [
    {
     "name": "stdout",
     "output_type": "stream",
     "text": [
      "Original dataset size: 2614\n",
      "Augmented dataset size: 5228\n"
     ]
    }
   ],
   "source": [
    "# Function to add noise\n",
    "def add_noise(X, noise_level=0.02):\n",
    "    noise = tf.random.normal(shape=tf.shape(X), mean=0.0, stddev=noise_level, dtype=tf.float32)\n",
    "    return X + noise\n",
    "\n",
    "# Function to shift pitch\n",
    "def shift_pitch(X, shift_steps):\n",
    "    return tf.roll(X, shift=shift_steps, axis=1)  # Rolls along pitch axis\n",
    "\n",
    "# Function to scale pitch energy\n",
    "def scale_pitch(X, scale_factor=0.1):\n",
    "    return X * (1 + scale_factor * tf.random.normal(shape=tf.shape(X), mean=0.0, stddev=1.0))\n",
    "\n",
    "# Function to create augmented versions\n",
    "def augment_data(X, y, num_augmentations=3):\n",
    "    augmented_X = []\n",
    "    augmented_y = []\n",
    "    \n",
    "    for _ in range(num_augmentations):\n",
    "        X_aug = add_noise(X)\n",
    "        X_aug = shift_pitch(X_aug, shift_steps=np.random.randint(-2, 3))  # Shift -2 to +2\n",
    "        X_aug = scale_pitch(X_aug)\n",
    "        \n",
    "        augmented_X.append(X_aug)\n",
    "        augmented_y.append(y)  # Labels stay the same\n",
    "    \n",
    "    return tf.concat([X] + augmented_X, axis=0), tf.concat([y] + augmented_y, axis=0)\n",
    "\n",
    "# Apply augmentation\n",
    "num_augmentations = 1  # Creates 3 additional versions, so dataset size increases 4x\n",
    "X_augmented, y_augmented = augment_data(X_train, y_train, num_augmentations=num_augmentations)\n",
    "\n",
    "# Shuffle dataset\n",
    "tf_dataset = tf.concat([X_augmented, y_augmented], axis=-1)\n",
    "tf_dataset = tf.random.shuffle(tf_dataset)\n",
    "\n",
    "# Split dataset back\n",
    "X_train_aug = tf_dataset[:, :-13]\n",
    "y_train_aug = tf_dataset[:, -13:]\n",
    "\n",
    "print(f\"Original dataset size: {X_train_aug.shape[0] // (num_augmentations + 1)}\")\n",
    "print(f\"Augmented dataset size: {X_train_aug.shape[0]}\")\n"
   ]
  },
  {
   "cell_type": "code",
   "execution_count": 11,
   "metadata": {},
   "outputs": [],
   "source": [
    "train_dataset = tf.data.Dataset.from_tensor_slices((X_train, y_train))\n",
    "#aug train_dataset = tf.data.Dataset.from_tensor_slices((X_train_aug, y_train_aug))\n",
    "train_dataset = train_dataset.shuffle(buffer_size = 8, reshuffle_each_iteration = True).batch(16).prefetch(tf.data.AUTOTUNE)"
   ]
  },
  {
   "cell_type": "code",
   "execution_count": 12,
   "metadata": {},
   "outputs": [
    {
     "name": "stdout",
     "output_type": "stream",
     "text": [
      "tf.Tensor(\n",
      "[[0.03254386 0.45102262 0.016755   0.01536787 0.00469075 0.17737752\n",
      "  0.00526298 0.00693705 0.09797541 0.0172039  0.15118311 0.02367993]\n",
      " [0.00367632 0.0006108  0.17074268 0.00157388 0.00348503 0.43793082\n",
      "  0.00496008 0.00060883 0.00092918 0.00556816 0.3664649  0.00344931]\n",
      " [0.01827593 0.02215498 0.29682153 0.01304706 0.11647771 0.02822321\n",
      "  0.02218328 0.00855974 0.0061647  0.4557472  0.00432034 0.00802431]\n",
      " [0.00249677 0.03247781 0.0700899  0.00215792 0.00396747 0.00470077\n",
      "  0.38760173 0.02477724 0.01975293 0.01749234 0.02467115 0.409814  ]\n",
      " [0.2468064  0.00540757 0.0290909  0.00202069 0.5243827  0.01156784\n",
      "  0.01553082 0.14158827 0.00620691 0.00401226 0.00532459 0.00806103]\n",
      " [0.00882729 0.00375825 0.01077357 0.01964118 0.10204628 0.00893045\n",
      "  0.03492138 0.0290972  0.35336393 0.0237677  0.01070578 0.39416698]\n",
      " [0.05705078 0.20869803 0.05553114 0.01082744 0.00342694 0.29102072\n",
      "  0.00810563 0.01176168 0.06604204 0.06126196 0.21499927 0.01127439]\n",
      " [0.00201223 0.12125053 0.00316785 0.1396613  0.01091539 0.00759156\n",
      "  0.11139735 0.03002137 0.00432053 0.0057563  0.10143421 0.4624714 ]\n",
      " [0.12996723 0.01154337 0.00864979 0.00197433 0.19599928 0.00380105\n",
      "  0.00707212 0.02926492 0.03780601 0.50426    0.00871806 0.06094384]\n",
      " [0.01033426 0.42354542 0.0146359  0.00624    0.00532766 0.2727563\n",
      "  0.00676174 0.00072421 0.00229885 0.00326731 0.2489586  0.00514976]\n",
      " [0.00771235 0.00977099 0.00976444 0.07740526 0.26975706 0.01185729\n",
      "  0.019752   0.00813059 0.19463602 0.00399112 0.00741708 0.3798058 ]\n",
      " [0.00407336 0.04105704 0.08170538 0.13602637 0.00854065 0.00386122\n",
      "  0.0911878  0.0459908  0.03213137 0.05223815 0.28522223 0.21796562]\n",
      " [0.00217212 0.0239539  0.582493   0.00668712 0.01301162 0.00452795\n",
      "  0.04911027 0.01323526 0.00554648 0.26976383 0.00364479 0.02585365]\n",
      " [0.00554831 0.24489701 0.00298873 0.00178913 0.00139824 0.30600038\n",
      "  0.01001942 0.00165932 0.00467943 0.00643131 0.40807685 0.00651188]\n",
      " [0.01984171 0.0390802  0.27384546 0.0168412  0.17190607 0.0775666\n",
      "  0.02566206 0.03125011 0.01974609 0.30556294 0.01123911 0.00745842]\n",
      " [0.00294549 0.00446498 0.0196648  0.01626817 0.16315165 0.00814588\n",
      "  0.0387729  0.18248066 0.03860018 0.01055189 0.00589498 0.5090584 ]], shape=(16, 12), dtype=float32) tf.Tensor(\n",
      "[[0. 0. 0. 0. 0. 0. 0. 0. 0. 0. 0. 0. 1.]\n",
      " [0. 0. 0. 0. 0. 0. 0. 0. 0. 0. 0. 1. 0.]\n",
      " [0. 0. 0. 0. 0. 1. 0. 0. 0. 0. 0. 0. 0.]\n",
      " [0. 0. 1. 0. 0. 0. 0. 0. 0. 0. 0. 0. 0.]\n",
      " [0. 0. 0. 1. 0. 0. 0. 0. 0. 0. 0. 0. 0.]\n",
      " [0. 0. 0. 0. 0. 0. 1. 0. 0. 0. 0. 0. 0.]\n",
      " [0. 0. 0. 0. 0. 0. 0. 0. 0. 0. 0. 0. 1.]\n",
      " [0. 0. 0. 0. 0. 0. 0. 0. 0. 0. 1. 0. 0.]\n",
      " [0. 1. 0. 0. 0. 0. 0. 0. 0. 0. 0. 0. 0.]\n",
      " [0. 0. 0. 0. 0. 0. 0. 0. 0. 0. 0. 0. 1.]\n",
      " [0. 0. 0. 0. 0. 0. 1. 0. 0. 0. 0. 0. 0.]\n",
      " [0. 0. 0. 0. 0. 0. 0. 0. 0. 0. 1. 0. 0.]\n",
      " [0. 0. 0. 0. 1. 0. 0. 0. 0. 0. 0. 0. 0.]\n",
      " [0. 0. 0. 0. 0. 0. 0. 0. 0. 0. 0. 0. 1.]\n",
      " [0. 0. 0. 0. 0. 1. 0. 0. 0. 0. 0. 0. 0.]\n",
      " [0. 0. 0. 0. 0. 0. 0. 1. 0. 0. 0. 0. 0.]], shape=(16, 13), dtype=float32)\n"
     ]
    }
   ],
   "source": [
    "for x,_y in train_dataset:\n",
    "  print(x,_y)\n",
    "  break"
   ]
  },
  {
   "cell_type": "code",
   "execution_count": 13,
   "metadata": {},
   "outputs": [
    {
     "name": "stdout",
     "output_type": "stream",
     "text": [
      "(327, 12)\n",
      "(327, 13)\n"
     ]
    }
   ],
   "source": [
    "X_val = X[int(DATASET_SIZE*TRAIN_RATIO):int(DATASET_SIZE*(TRAIN_RATIO+VAL_RATIO))]\n",
    "y_val = y[int(DATASET_SIZE*TRAIN_RATIO):int(DATASET_SIZE*(TRAIN_RATIO+VAL_RATIO))]\n",
    "print(X_val.shape)\n",
    "print(y_val.shape)"
   ]
  },
  {
   "cell_type": "code",
   "execution_count": 14,
   "metadata": {},
   "outputs": [],
   "source": [
    "val_dataset = tf.data.Dataset.from_tensor_slices((X_val, y_val))\n",
    "val_dataset = val_dataset.shuffle(buffer_size = 8, reshuffle_each_iteration = True).batch(16).prefetch(tf.data.AUTOTUNE)"
   ]
  },
  {
   "cell_type": "code",
   "execution_count": 15,
   "metadata": {},
   "outputs": [
    {
     "name": "stdout",
     "output_type": "stream",
     "text": [
      "tf.Tensor(\n",
      "[[1.11608163e-01 5.63854259e-03 1.23484815e-02 2.10092659e-03\n",
      "  2.23620355e-01 2.78891274e-03 4.04864596e-03 3.29062678e-02\n",
      "  1.75879486e-02 5.71511030e-01 1.16720796e-02 4.16867016e-03]\n",
      " [6.39524357e-03 2.96999753e-01 4.08952776e-03 8.56684404e-04\n",
      "  1.11719640e-03 3.13683867e-01 1.26358971e-03 3.80549842e-04\n",
      "  5.67972148e-03 5.91940340e-03 3.59609246e-01 4.00522398e-03]\n",
      " [1.56174125e-02 3.37523967e-02 1.64277013e-02 7.21035600e-01\n",
      "  1.92427225e-02 1.34411156e-02 1.06357373e-01 1.48757100e-02\n",
      "  1.35330651e-02 1.48787424e-02 2.04992499e-02 1.03389192e-02]\n",
      " [4.73041460e-03 3.88764031e-02 8.40592533e-02 3.31077725e-02\n",
      "  5.77209471e-03 1.36292633e-02 4.51168031e-01 3.34426314e-02\n",
      "  2.04918105e-02 3.72684970e-02 1.55065591e-02 2.61947274e-01]\n",
      " [5.81487687e-03 6.42802954e-01 1.54772087e-03 2.27662828e-03\n",
      "  8.24551657e-02 9.96163394e-03 5.06044878e-03 3.66307399e-03\n",
      "  1.01804342e-02 1.59146339e-01 9.62277409e-03 6.74679652e-02]\n",
      " [1.02080563e-02 5.38001359e-02 3.18775088e-01 5.05366828e-03\n",
      "  2.84453644e-03 1.98241696e-02 4.66531396e-01 1.46318944e-02\n",
      "  2.39695399e-03 1.73821729e-02 2.65715434e-03 8.58947784e-02]\n",
      " [3.27834904e-01 4.47820965e-03 5.28976927e-03 4.08085948e-03\n",
      "  1.46639999e-02 2.80005753e-01 9.47535038e-02 7.57998675e-02\n",
      "  1.46462088e-02 1.70863733e-01 4.26476775e-03 3.31838871e-03]\n",
      " [3.81389201e-01 5.79704344e-03 5.28578367e-03 1.33348024e-02\n",
      "  4.15194988e-01 8.51393584e-03 6.25987118e-03 9.98843275e-03\n",
      "  9.38727893e-03 1.20894514e-01 5.62724145e-03 1.83269139e-02]\n",
      " [1.91462261e-03 2.19764225e-02 2.59492896e-03 1.11344077e-01\n",
      "  4.06448403e-03 4.08507092e-03 5.12185514e-01 5.18170232e-03\n",
      "  3.20849009e-03 3.73883476e-03 2.41220240e-02 3.05583805e-01]\n",
      " [2.42295209e-03 6.49976611e-01 1.78781082e-03 4.97144181e-03\n",
      "  7.01873600e-02 1.04119321e-02 6.03001798e-03 7.57850613e-03\n",
      "  5.07380553e-02 1.52778864e-01 5.55725303e-03 3.75591889e-02]\n",
      " [1.61194071e-01 6.25782982e-02 2.31802762e-02 1.44172357e-02\n",
      "  9.64272544e-02 3.47739637e-01 5.18400967e-02 2.86702346e-02\n",
      "  4.82856017e-03 1.73940375e-01 1.08827408e-02 2.43012346e-02]\n",
      " [3.26744257e-03 2.53738160e-03 7.38396943e-02 2.52121361e-03\n",
      "  3.14053684e-03 9.86868367e-02 5.31280577e-01 6.80315942e-02\n",
      "  1.98482536e-03 1.18458364e-03 1.39493204e-03 2.12130368e-01]\n",
      " [1.54191643e-01 8.21761191e-02 1.43355120e-03 4.78197914e-03\n",
      "  5.24859466e-02 2.71721687e-02 1.93088118e-03 2.10458897e-02\n",
      "  1.15885900e-03 6.44467235e-01 5.01005026e-03 4.14568838e-03]\n",
      " [1.61300017e-03 1.52812181e-02 3.06070149e-01 3.33347335e-03\n",
      "  1.08361356e-02 2.73587257e-02 1.85767896e-02 1.00425491e-02\n",
      "  5.47242258e-03 5.95464528e-01 4.43466473e-03 1.51636044e-03]\n",
      " [2.03424692e-03 1.32632861e-02 1.82072446e-02 2.04958748e-02\n",
      "  1.82384595e-01 7.82051589e-03 3.88015322e-02 8.84576738e-02\n",
      "  5.93086220e-02 1.89598855e-02 1.97116602e-02 5.30554891e-01]\n",
      " [1.32122682e-02 5.91385178e-03 2.37173494e-03 2.83349981e-03\n",
      "  4.92128760e-01 9.99833085e-03 9.58518870e-03 6.72453456e-03\n",
      "  2.72438838e-03 4.37519103e-01 5.19992178e-03 1.17884185e-02]], shape=(16, 12), dtype=float32) tf.Tensor(\n",
      "[[0. 1. 0. 0. 0. 0. 0. 0. 0. 0. 0. 0. 0.]\n",
      " [0. 0. 0. 0. 0. 0. 0. 0. 0. 0. 0. 0. 1.]\n",
      " [0. 0. 0. 0. 0. 0. 0. 0. 0. 0. 1. 0. 0.]\n",
      " [0. 0. 1. 0. 0. 0. 0. 0. 0. 0. 0. 0. 0.]\n",
      " [1. 0. 0. 0. 0. 0. 0. 0. 0. 0. 0. 0. 0.]\n",
      " [0. 0. 1. 0. 0. 0. 0. 0. 0. 0. 0. 0. 0.]\n",
      " [0. 0. 0. 0. 0. 0. 0. 0. 1. 0. 0. 0. 0.]\n",
      " [0. 1. 0. 0. 0. 0. 0. 0. 0. 0. 0. 0. 0.]\n",
      " [0. 0. 0. 0. 0. 0. 0. 0. 0. 0. 1. 0. 0.]\n",
      " [1. 0. 0. 0. 0. 0. 0. 0. 0. 0. 0. 0. 0.]\n",
      " [0. 0. 0. 0. 0. 0. 0. 0. 1. 0. 0. 0. 0.]\n",
      " [0. 0. 1. 0. 0. 0. 0. 0. 0. 0. 0. 0. 0.]\n",
      " [0. 0. 0. 0. 0. 0. 0. 0. 1. 0. 0. 0. 0.]\n",
      " [0. 0. 0. 0. 0. 1. 0. 0. 0. 0. 0. 0. 0.]\n",
      " [0. 0. 0. 0. 0. 0. 0. 1. 0. 0. 0. 0. 0.]\n",
      " [0. 1. 0. 0. 0. 0. 0. 0. 0. 0. 0. 0. 0.]], shape=(16, 13), dtype=float32)\n"
     ]
    }
   ],
   "source": [
    "for x,__y in val_dataset:\n",
    "  print(x,__y)\n",
    "  break"
   ]
  },
  {
   "cell_type": "code",
   "execution_count": 16,
   "metadata": {},
   "outputs": [
    {
     "name": "stdout",
     "output_type": "stream",
     "text": [
      "(327, 12)\n",
      "(327, 13)\n"
     ]
    }
   ],
   "source": [
    "X_test = X[int(DATASET_SIZE*(TRAIN_RATIO+VAL_RATIO)):]\n",
    "y_test = y[int(DATASET_SIZE*(TRAIN_RATIO+VAL_RATIO)):]\n",
    "print(X_test.shape)\n",
    "print(y_test.shape)"
   ]
  },
  {
   "cell_type": "code",
   "execution_count": 17,
   "metadata": {},
   "outputs": [],
   "source": [
    "test_dataset = tf.data.Dataset.from_tensor_slices((X_test, y_test))\n",
    "test_dataset = test_dataset.shuffle(buffer_size = 8, reshuffle_each_iteration = True).batch(16).prefetch(tf.data.AUTOTUNE)"
   ]
  },
  {
   "cell_type": "code",
   "execution_count": 45,
   "metadata": {},
   "outputs": [
    {
     "name": "stdout",
     "output_type": "stream",
     "text": [
      "NaN in X_train: True\n",
      "Inf in X_train: False\n",
      "NaN in y_train: False\n",
      "Inf in y_train: False\n"
     ]
    }
   ],
   "source": [
    "import numpy as np\n",
    "\n",
    "# Check if there are NaN or Inf values in training data\n",
    "print(\"NaN in X_train:\", np.isnan(X_train).any())\n",
    "print(\"Inf in X_train:\", np.isinf(X_train).any())\n",
    "print(\"NaN in y_train:\", np.isnan(y_train).any())\n",
    "print(\"Inf in y_train:\", np.isinf(y_train).any())\n"
   ]
  },
  {
   "cell_type": "markdown",
   "metadata": {},
   "source": [
    "### **Model Creation**"
   ]
  },
  {
   "cell_type": "code",
   "execution_count": 18,
   "metadata": {},
   "outputs": [],
   "source": [
    "import tensorflow as tf\n",
    "import numpy as np\n",
    "import matplotlib.pyplot as plt\n",
    "from tensorflow.keras.layers import Normalization, Dense, InputLayer, Dropout, BatchNormalization, LSTM, GRU\n",
    "from tensorflow.keras.losses import MeanSquaredError, Huber, MeanAbsoluteError, CategoricalCrossentropy\n",
    "from tensorflow.keras.metrics import TopKCategoricalAccuracy\n",
    "from tensorflow.keras.optimizers import Adam\n",
    "from tensorflow.keras.callbacks import LearningRateScheduler"
   ]
  },
  {
   "cell_type": "code",
   "execution_count": 24,
   "metadata": {},
   "outputs": [
    {
     "data": {
      "text/html": [
       "<pre style=\"white-space:pre;overflow-x:auto;line-height:normal;font-family:Menlo,'DejaVu Sans Mono',consolas,'Courier New',monospace\"><span style=\"font-weight: bold\">Model: \"sequential_1\"</span>\n",
       "</pre>\n"
      ],
      "text/plain": [
       "\u001b[1mModel: \"sequential_1\"\u001b[0m\n"
      ]
     },
     "metadata": {},
     "output_type": "display_data"
    },
    {
     "data": {
      "text/html": [
       "<pre style=\"white-space:pre;overflow-x:auto;line-height:normal;font-family:Menlo,'DejaVu Sans Mono',consolas,'Courier New',monospace\">┏━━━━━━━━━━━━━━━━━━━━━━━━━━━━━━━━━┳━━━━━━━━━━━━━━━━━━━━━━━━┳━━━━━━━━━━━━━━━┓\n",
       "┃<span style=\"font-weight: bold\"> Layer (type)                    </span>┃<span style=\"font-weight: bold\"> Output Shape           </span>┃<span style=\"font-weight: bold\">       Param # </span>┃\n",
       "┡━━━━━━━━━━━━━━━━━━━━━━━━━━━━━━━━━╇━━━━━━━━━━━━━━━━━━━━━━━━╇━━━━━━━━━━━━━━━┩\n",
       "│ dense_3 (<span style=\"color: #0087ff; text-decoration-color: #0087ff\">Dense</span>)                 │ (<span style=\"color: #00d7ff; text-decoration-color: #00d7ff\">None</span>, <span style=\"color: #00af00; text-decoration-color: #00af00\">128</span>)            │         <span style=\"color: #00af00; text-decoration-color: #00af00\">1,664</span> │\n",
       "├─────────────────────────────────┼────────────────────────┼───────────────┤\n",
       "│ batch_normalization_2           │ (<span style=\"color: #00d7ff; text-decoration-color: #00d7ff\">None</span>, <span style=\"color: #00af00; text-decoration-color: #00af00\">128</span>)            │           <span style=\"color: #00af00; text-decoration-color: #00af00\">512</span> │\n",
       "│ (<span style=\"color: #0087ff; text-decoration-color: #0087ff\">BatchNormalization</span>)            │                        │               │\n",
       "├─────────────────────────────────┼────────────────────────┼───────────────┤\n",
       "│ re_lu_2 (<span style=\"color: #0087ff; text-decoration-color: #0087ff\">ReLU</span>)                  │ (<span style=\"color: #00d7ff; text-decoration-color: #00d7ff\">None</span>, <span style=\"color: #00af00; text-decoration-color: #00af00\">128</span>)            │             <span style=\"color: #00af00; text-decoration-color: #00af00\">0</span> │\n",
       "├─────────────────────────────────┼────────────────────────┼───────────────┤\n",
       "│ dropout_2 (<span style=\"color: #0087ff; text-decoration-color: #0087ff\">Dropout</span>)             │ (<span style=\"color: #00d7ff; text-decoration-color: #00d7ff\">None</span>, <span style=\"color: #00af00; text-decoration-color: #00af00\">128</span>)            │             <span style=\"color: #00af00; text-decoration-color: #00af00\">0</span> │\n",
       "├─────────────────────────────────┼────────────────────────┼───────────────┤\n",
       "│ dense_4 (<span style=\"color: #0087ff; text-decoration-color: #0087ff\">Dense</span>)                 │ (<span style=\"color: #00d7ff; text-decoration-color: #00d7ff\">None</span>, <span style=\"color: #00af00; text-decoration-color: #00af00\">128</span>)            │        <span style=\"color: #00af00; text-decoration-color: #00af00\">16,512</span> │\n",
       "├─────────────────────────────────┼────────────────────────┼───────────────┤\n",
       "│ batch_normalization_3           │ (<span style=\"color: #00d7ff; text-decoration-color: #00d7ff\">None</span>, <span style=\"color: #00af00; text-decoration-color: #00af00\">128</span>)            │           <span style=\"color: #00af00; text-decoration-color: #00af00\">512</span> │\n",
       "│ (<span style=\"color: #0087ff; text-decoration-color: #0087ff\">BatchNormalization</span>)            │                        │               │\n",
       "├─────────────────────────────────┼────────────────────────┼───────────────┤\n",
       "│ re_lu_3 (<span style=\"color: #0087ff; text-decoration-color: #0087ff\">ReLU</span>)                  │ (<span style=\"color: #00d7ff; text-decoration-color: #00d7ff\">None</span>, <span style=\"color: #00af00; text-decoration-color: #00af00\">128</span>)            │             <span style=\"color: #00af00; text-decoration-color: #00af00\">0</span> │\n",
       "├─────────────────────────────────┼────────────────────────┼───────────────┤\n",
       "│ dropout_3 (<span style=\"color: #0087ff; text-decoration-color: #0087ff\">Dropout</span>)             │ (<span style=\"color: #00d7ff; text-decoration-color: #00d7ff\">None</span>, <span style=\"color: #00af00; text-decoration-color: #00af00\">128</span>)            │             <span style=\"color: #00af00; text-decoration-color: #00af00\">0</span> │\n",
       "├─────────────────────────────────┼────────────────────────┼───────────────┤\n",
       "│ dense_5 (<span style=\"color: #0087ff; text-decoration-color: #0087ff\">Dense</span>)                 │ (<span style=\"color: #00d7ff; text-decoration-color: #00d7ff\">None</span>, <span style=\"color: #00af00; text-decoration-color: #00af00\">13</span>)             │         <span style=\"color: #00af00; text-decoration-color: #00af00\">1,677</span> │\n",
       "└─────────────────────────────────┴────────────────────────┴───────────────┘\n",
       "</pre>\n"
      ],
      "text/plain": [
       "┏━━━━━━━━━━━━━━━━━━━━━━━━━━━━━━━━━┳━━━━━━━━━━━━━━━━━━━━━━━━┳━━━━━━━━━━━━━━━┓\n",
       "┃\u001b[1m \u001b[0m\u001b[1mLayer (type)                   \u001b[0m\u001b[1m \u001b[0m┃\u001b[1m \u001b[0m\u001b[1mOutput Shape          \u001b[0m\u001b[1m \u001b[0m┃\u001b[1m \u001b[0m\u001b[1m      Param #\u001b[0m\u001b[1m \u001b[0m┃\n",
       "┡━━━━━━━━━━━━━━━━━━━━━━━━━━━━━━━━━╇━━━━━━━━━━━━━━━━━━━━━━━━╇━━━━━━━━━━━━━━━┩\n",
       "│ dense_3 (\u001b[38;5;33mDense\u001b[0m)                 │ (\u001b[38;5;45mNone\u001b[0m, \u001b[38;5;34m128\u001b[0m)            │         \u001b[38;5;34m1,664\u001b[0m │\n",
       "├─────────────────────────────────┼────────────────────────┼───────────────┤\n",
       "│ batch_normalization_2           │ (\u001b[38;5;45mNone\u001b[0m, \u001b[38;5;34m128\u001b[0m)            │           \u001b[38;5;34m512\u001b[0m │\n",
       "│ (\u001b[38;5;33mBatchNormalization\u001b[0m)            │                        │               │\n",
       "├─────────────────────────────────┼────────────────────────┼───────────────┤\n",
       "│ re_lu_2 (\u001b[38;5;33mReLU\u001b[0m)                  │ (\u001b[38;5;45mNone\u001b[0m, \u001b[38;5;34m128\u001b[0m)            │             \u001b[38;5;34m0\u001b[0m │\n",
       "├─────────────────────────────────┼────────────────────────┼───────────────┤\n",
       "│ dropout_2 (\u001b[38;5;33mDropout\u001b[0m)             │ (\u001b[38;5;45mNone\u001b[0m, \u001b[38;5;34m128\u001b[0m)            │             \u001b[38;5;34m0\u001b[0m │\n",
       "├─────────────────────────────────┼────────────────────────┼───────────────┤\n",
       "│ dense_4 (\u001b[38;5;33mDense\u001b[0m)                 │ (\u001b[38;5;45mNone\u001b[0m, \u001b[38;5;34m128\u001b[0m)            │        \u001b[38;5;34m16,512\u001b[0m │\n",
       "├─────────────────────────────────┼────────────────────────┼───────────────┤\n",
       "│ batch_normalization_3           │ (\u001b[38;5;45mNone\u001b[0m, \u001b[38;5;34m128\u001b[0m)            │           \u001b[38;5;34m512\u001b[0m │\n",
       "│ (\u001b[38;5;33mBatchNormalization\u001b[0m)            │                        │               │\n",
       "├─────────────────────────────────┼────────────────────────┼───────────────┤\n",
       "│ re_lu_3 (\u001b[38;5;33mReLU\u001b[0m)                  │ (\u001b[38;5;45mNone\u001b[0m, \u001b[38;5;34m128\u001b[0m)            │             \u001b[38;5;34m0\u001b[0m │\n",
       "├─────────────────────────────────┼────────────────────────┼───────────────┤\n",
       "│ dropout_3 (\u001b[38;5;33mDropout\u001b[0m)             │ (\u001b[38;5;45mNone\u001b[0m, \u001b[38;5;34m128\u001b[0m)            │             \u001b[38;5;34m0\u001b[0m │\n",
       "├─────────────────────────────────┼────────────────────────┼───────────────┤\n",
       "│ dense_5 (\u001b[38;5;33mDense\u001b[0m)                 │ (\u001b[38;5;45mNone\u001b[0m, \u001b[38;5;34m13\u001b[0m)             │         \u001b[38;5;34m1,677\u001b[0m │\n",
       "└─────────────────────────────────┴────────────────────────┴───────────────┘\n"
      ]
     },
     "metadata": {},
     "output_type": "display_data"
    },
    {
     "data": {
      "text/html": [
       "<pre style=\"white-space:pre;overflow-x:auto;line-height:normal;font-family:Menlo,'DejaVu Sans Mono',consolas,'Courier New',monospace\"><span style=\"font-weight: bold\"> Total params: </span><span style=\"color: #00af00; text-decoration-color: #00af00\">20,877</span> (81.55 KB)\n",
       "</pre>\n"
      ],
      "text/plain": [
       "\u001b[1m Total params: \u001b[0m\u001b[38;5;34m20,877\u001b[0m (81.55 KB)\n"
      ]
     },
     "metadata": {},
     "output_type": "display_data"
    },
    {
     "data": {
      "text/html": [
       "<pre style=\"white-space:pre;overflow-x:auto;line-height:normal;font-family:Menlo,'DejaVu Sans Mono',consolas,'Courier New',monospace\"><span style=\"font-weight: bold\"> Trainable params: </span><span style=\"color: #00af00; text-decoration-color: #00af00\">20,365</span> (79.55 KB)\n",
       "</pre>\n"
      ],
      "text/plain": [
       "\u001b[1m Trainable params: \u001b[0m\u001b[38;5;34m20,365\u001b[0m (79.55 KB)\n"
      ]
     },
     "metadata": {},
     "output_type": "display_data"
    },
    {
     "data": {
      "text/html": [
       "<pre style=\"white-space:pre;overflow-x:auto;line-height:normal;font-family:Menlo,'DejaVu Sans Mono',consolas,'Courier New',monospace\"><span style=\"font-weight: bold\"> Non-trainable params: </span><span style=\"color: #00af00; text-decoration-color: #00af00\">512</span> (2.00 KB)\n",
       "</pre>\n"
      ],
      "text/plain": [
       "\u001b[1m Non-trainable params: \u001b[0m\u001b[38;5;34m512\u001b[0m (2.00 KB)\n"
      ]
     },
     "metadata": {},
     "output_type": "display_data"
    }
   ],
   "source": [
    "model = tf.keras.Sequential([\n",
    "                             InputLayer(input_shape = (12,)),\n",
    "\n",
    "                             Dense(128),\n",
    "                             BatchNormalization(),\n",
    "                             tf.keras.layers.ReLU(),\n",
    "                             Dropout(0.2),\n",
    "\n",
    "                             Dense(128),\n",
    "                             BatchNormalization(),\n",
    "                             tf.keras.layers.ReLU(),\n",
    "                             Dropout(0.3),\n",
    "\n",
    "                             Dense(13, activation=\"softmax\"),\n",
    "])\n",
    "model.summary()"
   ]
  },
  {
   "cell_type": "code",
   "execution_count": 44,
   "metadata": {},
   "outputs": [
    {
     "name": "stdout",
     "output_type": "stream",
     "text": [
      "NaN in X_train: True\n",
      "Inf in X_train: False\n",
      "NaN in y_train: False\n",
      "Inf in y_train: False\n"
     ]
    }
   ],
   "source": [
    "import numpy as np\n",
    "\n",
    "# Check if there are NaN or Inf values in training data\n",
    "print(\"NaN in X_train:\", np.isnan(X_train).any())\n",
    "print(\"Inf in X_train:\", np.isinf(X_train).any())\n",
    "print(\"NaN in y_train:\", np.isnan(y_train).any())\n",
    "print(\"Inf in y_train:\", np.isinf(y_train).any())\n"
   ]
  },
  {
   "cell_type": "code",
   "execution_count": 26,
   "metadata": {},
   "outputs": [
    {
     "name": "stdout",
     "output_type": "stream",
     "text": [
      "You must install graphviz (see instructions at https://graphviz.gitlab.io/download/) for `plot_model` to work.\n"
     ]
    }
   ],
   "source": [
    "tf.keras.utils.plot_model(model, to_file = \"model.png\", show_shapes=True)"
   ]
  },
  {
   "cell_type": "code",
   "execution_count": 43,
   "metadata": {},
   "outputs": [],
   "source": [
    "lr_schedule = tf.keras.optimizers.schedules.ExponentialDecay(\n",
    "    initial_learning_rate=0.001,\n",
    "    decay_steps=1000,   # Adjust step size  500\n",
    "    decay_rate=0.98,   # Smoother decay     .95\n",
    "    staircase=True\n",
    ")\n",
    "\n",
    "# optimizer = Adam(learning_rate=lr_schedule)\n",
    "optimizer = tf.keras.optimizers.Adam(learning_rate=lr_schedule)"
   ]
  },
  {
   "cell_type": "code",
   "execution_count": 28,
   "metadata": {},
   "outputs": [],
   "source": [
    "model.compile(optimizer = optimizer, \n",
    "              loss=CategoricalCrossentropy(),\n",
    "              metrics=[TopKCategoricalAccuracy(k=8)]) # For example, top-5 accuracy"
   ]
  },
  {
   "cell_type": "code",
   "execution_count": 29,
   "metadata": {},
   "outputs": [
    {
     "name": "stdout",
     "output_type": "stream",
     "text": [
      "Epoch 1/80\n",
      "\u001b[1m164/164\u001b[0m \u001b[32m━━━━━━━━━━━━━━━━━━━━\u001b[0m\u001b[37m\u001b[0m \u001b[1m3s\u001b[0m 5ms/step - loss: nan - top_k_categorical_accuracy: 0.0774 - val_loss: nan - val_top_k_categorical_accuracy: 0.0000e+00\n",
      "Epoch 2/80\n",
      "\u001b[1m164/164\u001b[0m \u001b[32m━━━━━━━━━━━━━━━━━━━━\u001b[0m\u001b[37m\u001b[0m \u001b[1m1s\u001b[0m 3ms/step - loss: nan - top_k_categorical_accuracy: 0.0000e+00 - val_loss: nan - val_top_k_categorical_accuracy: 0.0000e+00\n",
      "Epoch 3/80\n",
      "\u001b[1m164/164\u001b[0m \u001b[32m━━━━━━━━━━━━━━━━━━━━\u001b[0m\u001b[37m\u001b[0m \u001b[1m1s\u001b[0m 3ms/step - loss: nan - top_k_categorical_accuracy: 0.0000e+00 - val_loss: nan - val_top_k_categorical_accuracy: 0.0000e+00\n",
      "Epoch 4/80\n",
      "\u001b[1m164/164\u001b[0m \u001b[32m━━━━━━━━━━━━━━━━━━━━\u001b[0m\u001b[37m\u001b[0m \u001b[1m1s\u001b[0m 3ms/step - loss: nan - top_k_categorical_accuracy: 0.0000e+00 - val_loss: nan - val_top_k_categorical_accuracy: 0.0000e+00\n",
      "Epoch 5/80\n",
      "\u001b[1m164/164\u001b[0m \u001b[32m━━━━━━━━━━━━━━━━━━━━\u001b[0m\u001b[37m\u001b[0m \u001b[1m0s\u001b[0m 3ms/step - loss: nan - top_k_categorical_accuracy: 0.0000e+00 - val_loss: nan - val_top_k_categorical_accuracy: 0.0000e+00\n",
      "Epoch 6/80\n",
      "\u001b[1m164/164\u001b[0m \u001b[32m━━━━━━━━━━━━━━━━━━━━\u001b[0m\u001b[37m\u001b[0m \u001b[1m0s\u001b[0m 3ms/step - loss: nan - top_k_categorical_accuracy: 0.0000e+00 - val_loss: nan - val_top_k_categorical_accuracy: 0.0000e+00\n",
      "Epoch 7/80\n",
      "\u001b[1m164/164\u001b[0m \u001b[32m━━━━━━━━━━━━━━━━━━━━\u001b[0m\u001b[37m\u001b[0m \u001b[1m0s\u001b[0m 3ms/step - loss: nan - top_k_categorical_accuracy: 0.0000e+00 - val_loss: nan - val_top_k_categorical_accuracy: 0.0000e+00\n",
      "Epoch 8/80\n",
      "\u001b[1m164/164\u001b[0m \u001b[32m━━━━━━━━━━━━━━━━━━━━\u001b[0m\u001b[37m\u001b[0m \u001b[1m0s\u001b[0m 3ms/step - loss: nan - top_k_categorical_accuracy: 0.0000e+00 - val_loss: nan - val_top_k_categorical_accuracy: 0.0000e+00\n",
      "Epoch 9/80\n",
      "\u001b[1m164/164\u001b[0m \u001b[32m━━━━━━━━━━━━━━━━━━━━\u001b[0m\u001b[37m\u001b[0m \u001b[1m0s\u001b[0m 3ms/step - loss: nan - top_k_categorical_accuracy: 0.0000e+00 - val_loss: nan - val_top_k_categorical_accuracy: 0.0000e+00\n",
      "Epoch 10/80\n",
      "\u001b[1m164/164\u001b[0m \u001b[32m━━━━━━━━━━━━━━━━━━━━\u001b[0m\u001b[37m\u001b[0m \u001b[1m1s\u001b[0m 3ms/step - loss: nan - top_k_categorical_accuracy: 0.0000e+00 - val_loss: nan - val_top_k_categorical_accuracy: 0.0000e+00\n",
      "Epoch 11/80\n",
      "\u001b[1m164/164\u001b[0m \u001b[32m━━━━━━━━━━━━━━━━━━━━\u001b[0m\u001b[37m\u001b[0m \u001b[1m0s\u001b[0m 3ms/step - loss: nan - top_k_categorical_accuracy: 0.0000e+00 - val_loss: nan - val_top_k_categorical_accuracy: 0.0000e+00\n",
      "Epoch 12/80\n",
      "\u001b[1m164/164\u001b[0m \u001b[32m━━━━━━━━━━━━━━━━━━━━\u001b[0m\u001b[37m\u001b[0m \u001b[1m0s\u001b[0m 3ms/step - loss: nan - top_k_categorical_accuracy: 0.0000e+00 - val_loss: nan - val_top_k_categorical_accuracy: 0.0000e+00\n",
      "Epoch 13/80\n",
      "\u001b[1m164/164\u001b[0m \u001b[32m━━━━━━━━━━━━━━━━━━━━\u001b[0m\u001b[37m\u001b[0m \u001b[1m1s\u001b[0m 3ms/step - loss: nan - top_k_categorical_accuracy: 0.0000e+00 - val_loss: nan - val_top_k_categorical_accuracy: 0.0000e+00\n",
      "Epoch 14/80\n",
      "\u001b[1m164/164\u001b[0m \u001b[32m━━━━━━━━━━━━━━━━━━━━\u001b[0m\u001b[37m\u001b[0m \u001b[1m0s\u001b[0m 3ms/step - loss: nan - top_k_categorical_accuracy: 0.0000e+00 - val_loss: nan - val_top_k_categorical_accuracy: 0.0000e+00\n",
      "Epoch 15/80\n",
      "\u001b[1m164/164\u001b[0m \u001b[32m━━━━━━━━━━━━━━━━━━━━\u001b[0m\u001b[37m\u001b[0m \u001b[1m0s\u001b[0m 3ms/step - loss: nan - top_k_categorical_accuracy: 0.0000e+00 - val_loss: nan - val_top_k_categorical_accuracy: 0.0000e+00\n",
      "Epoch 16/80\n",
      "\u001b[1m164/164\u001b[0m \u001b[32m━━━━━━━━━━━━━━━━━━━━\u001b[0m\u001b[37m\u001b[0m \u001b[1m1s\u001b[0m 4ms/step - loss: nan - top_k_categorical_accuracy: 0.0000e+00 - val_loss: nan - val_top_k_categorical_accuracy: 0.0000e+00\n",
      "Epoch 17/80\n",
      "\u001b[1m164/164\u001b[0m \u001b[32m━━━━━━━━━━━━━━━━━━━━\u001b[0m\u001b[37m\u001b[0m \u001b[1m1s\u001b[0m 4ms/step - loss: nan - top_k_categorical_accuracy: 0.0000e+00 - val_loss: nan - val_top_k_categorical_accuracy: 0.0000e+00\n",
      "Epoch 18/80\n",
      "\u001b[1m164/164\u001b[0m \u001b[32m━━━━━━━━━━━━━━━━━━━━\u001b[0m\u001b[37m\u001b[0m \u001b[1m1s\u001b[0m 4ms/step - loss: nan - top_k_categorical_accuracy: 0.0000e+00 - val_loss: nan - val_top_k_categorical_accuracy: 0.0000e+00\n",
      "Epoch 19/80\n",
      "\u001b[1m164/164\u001b[0m \u001b[32m━━━━━━━━━━━━━━━━━━━━\u001b[0m\u001b[37m\u001b[0m \u001b[1m0s\u001b[0m 3ms/step - loss: nan - top_k_categorical_accuracy: 0.0000e+00 - val_loss: nan - val_top_k_categorical_accuracy: 0.0000e+00\n",
      "Epoch 20/80\n",
      "\u001b[1m164/164\u001b[0m \u001b[32m━━━━━━━━━━━━━━━━━━━━\u001b[0m\u001b[37m\u001b[0m \u001b[1m1s\u001b[0m 3ms/step - loss: nan - top_k_categorical_accuracy: 0.0000e+00 - val_loss: nan - val_top_k_categorical_accuracy: 0.0000e+00\n",
      "Epoch 21/80\n",
      "\u001b[1m164/164\u001b[0m \u001b[32m━━━━━━━━━━━━━━━━━━━━\u001b[0m\u001b[37m\u001b[0m \u001b[1m0s\u001b[0m 3ms/step - loss: nan - top_k_categorical_accuracy: 0.0000e+00 - val_loss: nan - val_top_k_categorical_accuracy: 0.0000e+00\n",
      "Epoch 22/80\n",
      "\u001b[1m164/164\u001b[0m \u001b[32m━━━━━━━━━━━━━━━━━━━━\u001b[0m\u001b[37m\u001b[0m \u001b[1m0s\u001b[0m 3ms/step - loss: nan - top_k_categorical_accuracy: 0.0000e+00 - val_loss: nan - val_top_k_categorical_accuracy: 0.0000e+00\n",
      "Epoch 23/80\n",
      "\u001b[1m164/164\u001b[0m \u001b[32m━━━━━━━━━━━━━━━━━━━━\u001b[0m\u001b[37m\u001b[0m \u001b[1m0s\u001b[0m 3ms/step - loss: nan - top_k_categorical_accuracy: 0.0000e+00 - val_loss: nan - val_top_k_categorical_accuracy: 0.0000e+00\n",
      "Epoch 24/80\n",
      "\u001b[1m164/164\u001b[0m \u001b[32m━━━━━━━━━━━━━━━━━━━━\u001b[0m\u001b[37m\u001b[0m \u001b[1m0s\u001b[0m 3ms/step - loss: nan - top_k_categorical_accuracy: 0.0000e+00 - val_loss: nan - val_top_k_categorical_accuracy: 0.0000e+00\n",
      "Epoch 25/80\n",
      "\u001b[1m164/164\u001b[0m \u001b[32m━━━━━━━━━━━━━━━━━━━━\u001b[0m\u001b[37m\u001b[0m \u001b[1m0s\u001b[0m 3ms/step - loss: nan - top_k_categorical_accuracy: 0.0000e+00 - val_loss: nan - val_top_k_categorical_accuracy: 0.0000e+00\n",
      "Epoch 26/80\n",
      "\u001b[1m164/164\u001b[0m \u001b[32m━━━━━━━━━━━━━━━━━━━━\u001b[0m\u001b[37m\u001b[0m \u001b[1m0s\u001b[0m 3ms/step - loss: nan - top_k_categorical_accuracy: 0.0000e+00 - val_loss: nan - val_top_k_categorical_accuracy: 0.0000e+00\n",
      "Epoch 27/80\n",
      "\u001b[1m164/164\u001b[0m \u001b[32m━━━━━━━━━━━━━━━━━━━━\u001b[0m\u001b[37m\u001b[0m \u001b[1m1s\u001b[0m 3ms/step - loss: nan - top_k_categorical_accuracy: 0.0000e+00 - val_loss: nan - val_top_k_categorical_accuracy: 0.0000e+00\n",
      "Epoch 28/80\n",
      "\u001b[1m164/164\u001b[0m \u001b[32m━━━━━━━━━━━━━━━━━━━━\u001b[0m\u001b[37m\u001b[0m \u001b[1m1s\u001b[0m 3ms/step - loss: nan - top_k_categorical_accuracy: 0.0000e+00 - val_loss: nan - val_top_k_categorical_accuracy: 0.0000e+00\n",
      "Epoch 29/80\n",
      "\u001b[1m164/164\u001b[0m \u001b[32m━━━━━━━━━━━━━━━━━━━━\u001b[0m\u001b[37m\u001b[0m \u001b[1m0s\u001b[0m 3ms/step - loss: nan - top_k_categorical_accuracy: 0.0000e+00 - val_loss: nan - val_top_k_categorical_accuracy: 0.0000e+00\n",
      "Epoch 30/80\n",
      "\u001b[1m164/164\u001b[0m \u001b[32m━━━━━━━━━━━━━━━━━━━━\u001b[0m\u001b[37m\u001b[0m \u001b[1m0s\u001b[0m 3ms/step - loss: nan - top_k_categorical_accuracy: 0.0000e+00 - val_loss: nan - val_top_k_categorical_accuracy: 0.0000e+00\n",
      "Epoch 31/80\n",
      "\u001b[1m164/164\u001b[0m \u001b[32m━━━━━━━━━━━━━━━━━━━━\u001b[0m\u001b[37m\u001b[0m \u001b[1m0s\u001b[0m 3ms/step - loss: nan - top_k_categorical_accuracy: 0.0000e+00 - val_loss: nan - val_top_k_categorical_accuracy: 0.0000e+00\n",
      "Epoch 32/80\n",
      "\u001b[1m164/164\u001b[0m \u001b[32m━━━━━━━━━━━━━━━━━━━━\u001b[0m\u001b[37m\u001b[0m \u001b[1m1s\u001b[0m 3ms/step - loss: nan - top_k_categorical_accuracy: 0.0000e+00 - val_loss: nan - val_top_k_categorical_accuracy: 0.0000e+00\n",
      "Epoch 33/80\n",
      "\u001b[1m164/164\u001b[0m \u001b[32m━━━━━━━━━━━━━━━━━━━━\u001b[0m\u001b[37m\u001b[0m \u001b[1m0s\u001b[0m 3ms/step - loss: nan - top_k_categorical_accuracy: 0.0000e+00 - val_loss: nan - val_top_k_categorical_accuracy: 0.0000e+00\n",
      "Epoch 34/80\n",
      "\u001b[1m164/164\u001b[0m \u001b[32m━━━━━━━━━━━━━━━━━━━━\u001b[0m\u001b[37m\u001b[0m \u001b[1m0s\u001b[0m 3ms/step - loss: nan - top_k_categorical_accuracy: 0.0000e+00 - val_loss: nan - val_top_k_categorical_accuracy: 0.0000e+00\n",
      "Epoch 35/80\n",
      "\u001b[1m164/164\u001b[0m \u001b[32m━━━━━━━━━━━━━━━━━━━━\u001b[0m\u001b[37m\u001b[0m \u001b[1m0s\u001b[0m 3ms/step - loss: nan - top_k_categorical_accuracy: 0.0000e+00 - val_loss: nan - val_top_k_categorical_accuracy: 0.0000e+00\n",
      "Epoch 36/80\n",
      "\u001b[1m164/164\u001b[0m \u001b[32m━━━━━━━━━━━━━━━━━━━━\u001b[0m\u001b[37m\u001b[0m \u001b[1m0s\u001b[0m 3ms/step - loss: nan - top_k_categorical_accuracy: 0.0000e+00 - val_loss: nan - val_top_k_categorical_accuracy: 0.0000e+00\n",
      "Epoch 37/80\n",
      "\u001b[1m164/164\u001b[0m \u001b[32m━━━━━━━━━━━━━━━━━━━━\u001b[0m\u001b[37m\u001b[0m \u001b[1m1s\u001b[0m 3ms/step - loss: nan - top_k_categorical_accuracy: 0.0000e+00 - val_loss: nan - val_top_k_categorical_accuracy: 0.0000e+00\n",
      "Epoch 38/80\n",
      "\u001b[1m164/164\u001b[0m \u001b[32m━━━━━━━━━━━━━━━━━━━━\u001b[0m\u001b[37m\u001b[0m \u001b[1m1s\u001b[0m 3ms/step - loss: nan - top_k_categorical_accuracy: 0.0000e+00 - val_loss: nan - val_top_k_categorical_accuracy: 0.0000e+00\n",
      "Epoch 39/80\n",
      "\u001b[1m164/164\u001b[0m \u001b[32m━━━━━━━━━━━━━━━━━━━━\u001b[0m\u001b[37m\u001b[0m \u001b[1m0s\u001b[0m 3ms/step - loss: nan - top_k_categorical_accuracy: 0.0000e+00 - val_loss: nan - val_top_k_categorical_accuracy: 0.0000e+00\n",
      "Epoch 40/80\n",
      "\u001b[1m164/164\u001b[0m \u001b[32m━━━━━━━━━━━━━━━━━━━━\u001b[0m\u001b[37m\u001b[0m \u001b[1m0s\u001b[0m 3ms/step - loss: nan - top_k_categorical_accuracy: 0.0000e+00 - val_loss: nan - val_top_k_categorical_accuracy: 0.0000e+00\n",
      "Epoch 41/80\n",
      "\u001b[1m164/164\u001b[0m \u001b[32m━━━━━━━━━━━━━━━━━━━━\u001b[0m\u001b[37m\u001b[0m \u001b[1m0s\u001b[0m 3ms/step - loss: nan - top_k_categorical_accuracy: 0.0000e+00 - val_loss: nan - val_top_k_categorical_accuracy: 0.0000e+00\n",
      "Epoch 42/80\n",
      "\u001b[1m164/164\u001b[0m \u001b[32m━━━━━━━━━━━━━━━━━━━━\u001b[0m\u001b[37m\u001b[0m \u001b[1m0s\u001b[0m 2ms/step - loss: nan - top_k_categorical_accuracy: 0.0000e+00 - val_loss: nan - val_top_k_categorical_accuracy: 0.0000e+00\n",
      "Epoch 43/80\n",
      "\u001b[1m164/164\u001b[0m \u001b[32m━━━━━━━━━━━━━━━━━━━━\u001b[0m\u001b[37m\u001b[0m \u001b[1m0s\u001b[0m 3ms/step - loss: nan - top_k_categorical_accuracy: 0.0000e+00 - val_loss: nan - val_top_k_categorical_accuracy: 0.0000e+00\n",
      "Epoch 44/80\n",
      "\u001b[1m164/164\u001b[0m \u001b[32m━━━━━━━━━━━━━━━━━━━━\u001b[0m\u001b[37m\u001b[0m \u001b[1m0s\u001b[0m 3ms/step - loss: nan - top_k_categorical_accuracy: 0.0000e+00 - val_loss: nan - val_top_k_categorical_accuracy: 0.0000e+00\n",
      "Epoch 45/80\n",
      "\u001b[1m164/164\u001b[0m \u001b[32m━━━━━━━━━━━━━━━━━━━━\u001b[0m\u001b[37m\u001b[0m \u001b[1m0s\u001b[0m 3ms/step - loss: nan - top_k_categorical_accuracy: 0.0000e+00 - val_loss: nan - val_top_k_categorical_accuracy: 0.0000e+00\n",
      "Epoch 46/80\n",
      "\u001b[1m164/164\u001b[0m \u001b[32m━━━━━━━━━━━━━━━━━━━━\u001b[0m\u001b[37m\u001b[0m \u001b[1m0s\u001b[0m 3ms/step - loss: nan - top_k_categorical_accuracy: 0.0000e+00 - val_loss: nan - val_top_k_categorical_accuracy: 0.0000e+00\n",
      "Epoch 47/80\n",
      "\u001b[1m164/164\u001b[0m \u001b[32m━━━━━━━━━━━━━━━━━━━━\u001b[0m\u001b[37m\u001b[0m \u001b[1m1s\u001b[0m 3ms/step - loss: nan - top_k_categorical_accuracy: 0.0000e+00 - val_loss: nan - val_top_k_categorical_accuracy: 0.0000e+00\n",
      "Epoch 48/80\n",
      "\u001b[1m164/164\u001b[0m \u001b[32m━━━━━━━━━━━━━━━━━━━━\u001b[0m\u001b[37m\u001b[0m \u001b[1m1s\u001b[0m 4ms/step - loss: nan - top_k_categorical_accuracy: 0.0000e+00 - val_loss: nan - val_top_k_categorical_accuracy: 0.0000e+00\n",
      "Epoch 49/80\n",
      "\u001b[1m164/164\u001b[0m \u001b[32m━━━━━━━━━━━━━━━━━━━━\u001b[0m\u001b[37m\u001b[0m \u001b[1m1s\u001b[0m 3ms/step - loss: nan - top_k_categorical_accuracy: 0.0000e+00 - val_loss: nan - val_top_k_categorical_accuracy: 0.0000e+00\n",
      "Epoch 50/80\n",
      "\u001b[1m164/164\u001b[0m \u001b[32m━━━━━━━━━━━━━━━━━━━━\u001b[0m\u001b[37m\u001b[0m \u001b[1m0s\u001b[0m 3ms/step - loss: nan - top_k_categorical_accuracy: 0.0000e+00 - val_loss: nan - val_top_k_categorical_accuracy: 0.0000e+00\n",
      "Epoch 51/80\n",
      "\u001b[1m164/164\u001b[0m \u001b[32m━━━━━━━━━━━━━━━━━━━━\u001b[0m\u001b[37m\u001b[0m \u001b[1m0s\u001b[0m 3ms/step - loss: nan - top_k_categorical_accuracy: 0.0000e+00 - val_loss: nan - val_top_k_categorical_accuracy: 0.0000e+00\n",
      "Epoch 52/80\n",
      "\u001b[1m164/164\u001b[0m \u001b[32m━━━━━━━━━━━━━━━━━━━━\u001b[0m\u001b[37m\u001b[0m \u001b[1m1s\u001b[0m 3ms/step - loss: nan - top_k_categorical_accuracy: 0.0000e+00 - val_loss: nan - val_top_k_categorical_accuracy: 0.0000e+00\n",
      "Epoch 53/80\n",
      "\u001b[1m164/164\u001b[0m \u001b[32m━━━━━━━━━━━━━━━━━━━━\u001b[0m\u001b[37m\u001b[0m \u001b[1m0s\u001b[0m 3ms/step - loss: nan - top_k_categorical_accuracy: 0.0000e+00 - val_loss: nan - val_top_k_categorical_accuracy: 0.0000e+00\n",
      "Epoch 54/80\n",
      "\u001b[1m164/164\u001b[0m \u001b[32m━━━━━━━━━━━━━━━━━━━━\u001b[0m\u001b[37m\u001b[0m \u001b[1m0s\u001b[0m 3ms/step - loss: nan - top_k_categorical_accuracy: 0.0000e+00 - val_loss: nan - val_top_k_categorical_accuracy: 0.0000e+00\n",
      "Epoch 55/80\n",
      "\u001b[1m164/164\u001b[0m \u001b[32m━━━━━━━━━━━━━━━━━━━━\u001b[0m\u001b[37m\u001b[0m \u001b[1m0s\u001b[0m 3ms/step - loss: nan - top_k_categorical_accuracy: 0.0000e+00 - val_loss: nan - val_top_k_categorical_accuracy: 0.0000e+00\n",
      "Epoch 56/80\n",
      "\u001b[1m164/164\u001b[0m \u001b[32m━━━━━━━━━━━━━━━━━━━━\u001b[0m\u001b[37m\u001b[0m \u001b[1m0s\u001b[0m 3ms/step - loss: nan - top_k_categorical_accuracy: 0.0000e+00 - val_loss: nan - val_top_k_categorical_accuracy: 0.0000e+00\n",
      "Epoch 57/80\n",
      "\u001b[1m164/164\u001b[0m \u001b[32m━━━━━━━━━━━━━━━━━━━━\u001b[0m\u001b[37m\u001b[0m \u001b[1m0s\u001b[0m 3ms/step - loss: nan - top_k_categorical_accuracy: 0.0000e+00 - val_loss: nan - val_top_k_categorical_accuracy: 0.0000e+00\n",
      "Epoch 58/80\n",
      "\u001b[1m164/164\u001b[0m \u001b[32m━━━━━━━━━━━━━━━━━━━━\u001b[0m\u001b[37m\u001b[0m \u001b[1m1s\u001b[0m 3ms/step - loss: nan - top_k_categorical_accuracy: 0.0000e+00 - val_loss: nan - val_top_k_categorical_accuracy: 0.0000e+00\n",
      "Epoch 59/80\n",
      "\u001b[1m164/164\u001b[0m \u001b[32m━━━━━━━━━━━━━━━━━━━━\u001b[0m\u001b[37m\u001b[0m \u001b[1m0s\u001b[0m 3ms/step - loss: nan - top_k_categorical_accuracy: 0.0000e+00 - val_loss: nan - val_top_k_categorical_accuracy: 0.0000e+00\n",
      "Epoch 60/80\n",
      "\u001b[1m164/164\u001b[0m \u001b[32m━━━━━━━━━━━━━━━━━━━━\u001b[0m\u001b[37m\u001b[0m \u001b[1m0s\u001b[0m 3ms/step - loss: nan - top_k_categorical_accuracy: 0.0000e+00 - val_loss: nan - val_top_k_categorical_accuracy: 0.0000e+00\n",
      "Epoch 61/80\n",
      "\u001b[1m164/164\u001b[0m \u001b[32m━━━━━━━━━━━━━━━━━━━━\u001b[0m\u001b[37m\u001b[0m \u001b[1m1s\u001b[0m 3ms/step - loss: nan - top_k_categorical_accuracy: 0.0000e+00 - val_loss: nan - val_top_k_categorical_accuracy: 0.0000e+00\n",
      "Epoch 62/80\n",
      "\u001b[1m164/164\u001b[0m \u001b[32m━━━━━━━━━━━━━━━━━━━━\u001b[0m\u001b[37m\u001b[0m \u001b[1m0s\u001b[0m 3ms/step - loss: nan - top_k_categorical_accuracy: 0.0000e+00 - val_loss: nan - val_top_k_categorical_accuracy: 0.0000e+00\n",
      "Epoch 63/80\n",
      "\u001b[1m164/164\u001b[0m \u001b[32m━━━━━━━━━━━━━━━━━━━━\u001b[0m\u001b[37m\u001b[0m \u001b[1m0s\u001b[0m 3ms/step - loss: nan - top_k_categorical_accuracy: 0.0000e+00 - val_loss: nan - val_top_k_categorical_accuracy: 0.0000e+00\n",
      "Epoch 64/80\n",
      "\u001b[1m164/164\u001b[0m \u001b[32m━━━━━━━━━━━━━━━━━━━━\u001b[0m\u001b[37m\u001b[0m \u001b[1m0s\u001b[0m 3ms/step - loss: nan - top_k_categorical_accuracy: 0.0000e+00 - val_loss: nan - val_top_k_categorical_accuracy: 0.0000e+00\n",
      "Epoch 65/80\n",
      "\u001b[1m164/164\u001b[0m \u001b[32m━━━━━━━━━━━━━━━━━━━━\u001b[0m\u001b[37m\u001b[0m \u001b[1m0s\u001b[0m 3ms/step - loss: nan - top_k_categorical_accuracy: 0.0000e+00 - val_loss: nan - val_top_k_categorical_accuracy: 0.0000e+00\n",
      "Epoch 66/80\n",
      "\u001b[1m164/164\u001b[0m \u001b[32m━━━━━━━━━━━━━━━━━━━━\u001b[0m\u001b[37m\u001b[0m \u001b[1m0s\u001b[0m 3ms/step - loss: nan - top_k_categorical_accuracy: 0.0000e+00 - val_loss: nan - val_top_k_categorical_accuracy: 0.0000e+00\n",
      "Epoch 67/80\n",
      "\u001b[1m164/164\u001b[0m \u001b[32m━━━━━━━━━━━━━━━━━━━━\u001b[0m\u001b[37m\u001b[0m \u001b[1m0s\u001b[0m 3ms/step - loss: nan - top_k_categorical_accuracy: 0.0000e+00 - val_loss: nan - val_top_k_categorical_accuracy: 0.0000e+00\n",
      "Epoch 68/80\n",
      "\u001b[1m164/164\u001b[0m \u001b[32m━━━━━━━━━━━━━━━━━━━━\u001b[0m\u001b[37m\u001b[0m \u001b[1m1s\u001b[0m 3ms/step - loss: nan - top_k_categorical_accuracy: 0.0000e+00 - val_loss: nan - val_top_k_categorical_accuracy: 0.0000e+00\n",
      "Epoch 69/80\n",
      "\u001b[1m164/164\u001b[0m \u001b[32m━━━━━━━━━━━━━━━━━━━━\u001b[0m\u001b[37m\u001b[0m \u001b[1m0s\u001b[0m 3ms/step - loss: nan - top_k_categorical_accuracy: 0.0000e+00 - val_loss: nan - val_top_k_categorical_accuracy: 0.0000e+00\n",
      "Epoch 70/80\n",
      "\u001b[1m164/164\u001b[0m \u001b[32m━━━━━━━━━━━━━━━━━━━━\u001b[0m\u001b[37m\u001b[0m \u001b[1m1s\u001b[0m 3ms/step - loss: nan - top_k_categorical_accuracy: 0.0000e+00 - val_loss: nan - val_top_k_categorical_accuracy: 0.0000e+00\n",
      "Epoch 71/80\n",
      "\u001b[1m164/164\u001b[0m \u001b[32m━━━━━━━━━━━━━━━━━━━━\u001b[0m\u001b[37m\u001b[0m \u001b[1m0s\u001b[0m 3ms/step - loss: nan - top_k_categorical_accuracy: 0.0000e+00 - val_loss: nan - val_top_k_categorical_accuracy: 0.0000e+00\n",
      "Epoch 72/80\n",
      "\u001b[1m164/164\u001b[0m \u001b[32m━━━━━━━━━━━━━━━━━━━━\u001b[0m\u001b[37m\u001b[0m \u001b[1m0s\u001b[0m 3ms/step - loss: nan - top_k_categorical_accuracy: 0.0000e+00 - val_loss: nan - val_top_k_categorical_accuracy: 0.0000e+00\n",
      "Epoch 73/80\n",
      "\u001b[1m164/164\u001b[0m \u001b[32m━━━━━━━━━━━━━━━━━━━━\u001b[0m\u001b[37m\u001b[0m \u001b[1m0s\u001b[0m 2ms/step - loss: nan - top_k_categorical_accuracy: 0.0000e+00 - val_loss: nan - val_top_k_categorical_accuracy: 0.0000e+00\n",
      "Epoch 74/80\n",
      "\u001b[1m164/164\u001b[0m \u001b[32m━━━━━━━━━━━━━━━━━━━━\u001b[0m\u001b[37m\u001b[0m \u001b[1m0s\u001b[0m 3ms/step - loss: nan - top_k_categorical_accuracy: 0.0000e+00 - val_loss: nan - val_top_k_categorical_accuracy: 0.0000e+00\n",
      "Epoch 75/80\n",
      "\u001b[1m164/164\u001b[0m \u001b[32m━━━━━━━━━━━━━━━━━━━━\u001b[0m\u001b[37m\u001b[0m \u001b[1m0s\u001b[0m 3ms/step - loss: nan - top_k_categorical_accuracy: 0.0000e+00 - val_loss: nan - val_top_k_categorical_accuracy: 0.0000e+00\n",
      "Epoch 76/80\n",
      "\u001b[1m164/164\u001b[0m \u001b[32m━━━━━━━━━━━━━━━━━━━━\u001b[0m\u001b[37m\u001b[0m \u001b[1m0s\u001b[0m 3ms/step - loss: nan - top_k_categorical_accuracy: 0.0000e+00 - val_loss: nan - val_top_k_categorical_accuracy: 0.0000e+00\n",
      "Epoch 77/80\n",
      "\u001b[1m164/164\u001b[0m \u001b[32m━━━━━━━━━━━━━━━━━━━━\u001b[0m\u001b[37m\u001b[0m \u001b[1m0s\u001b[0m 3ms/step - loss: nan - top_k_categorical_accuracy: 0.0000e+00 - val_loss: nan - val_top_k_categorical_accuracy: 0.0000e+00\n",
      "Epoch 78/80\n",
      "\u001b[1m164/164\u001b[0m \u001b[32m━━━━━━━━━━━━━━━━━━━━\u001b[0m\u001b[37m\u001b[0m \u001b[1m0s\u001b[0m 3ms/step - loss: nan - top_k_categorical_accuracy: 0.0000e+00 - val_loss: nan - val_top_k_categorical_accuracy: 0.0000e+00\n",
      "Epoch 79/80\n",
      "\u001b[1m164/164\u001b[0m \u001b[32m━━━━━━━━━━━━━━━━━━━━\u001b[0m\u001b[37m\u001b[0m \u001b[1m1s\u001b[0m 4ms/step - loss: nan - top_k_categorical_accuracy: 0.0000e+00 - val_loss: nan - val_top_k_categorical_accuracy: 0.0000e+00\n",
      "Epoch 80/80\n",
      "\u001b[1m164/164\u001b[0m \u001b[32m━━━━━━━━━━━━━━━━━━━━\u001b[0m\u001b[37m\u001b[0m \u001b[1m1s\u001b[0m 3ms/step - loss: nan - top_k_categorical_accuracy: 0.0000e+00 - val_loss: nan - val_top_k_categorical_accuracy: 0.0000e+00\n"
     ]
    }
   ],
   "source": [
    "history = model.fit(train_dataset, validation_data=val_dataset, epochs = 80, verbose = 1)"
   ]
  },
  {
   "cell_type": "code",
   "execution_count": 30,
   "metadata": {},
   "outputs": [
    {
     "data": {
      "image/png": "[encoded data removed]",
      "text/plain": [
       "<Figure size 640x480 with 1 Axes>"
      ]
     },
     "metadata": {},
     "output_type": "display_data"
    }
   ],
   "source": [
    "plt.plot(history.history['loss'])\n",
    "plt.plot(history.history['val_loss'])\n",
    "plt.title('model loss')\n",
    "plt.ylabel('loss')\n",
    "plt.xlabel('epoch')\n",
    "plt.legend(['train', 'val_loss'])\n",
    "plt.show()"
   ]
  },
  {
   "cell_type": "code",
   "execution_count": 31,
   "metadata": {},
   "outputs": [
    {
     "data": {
      "image/png": "[encoded data removed]",
      "text/plain": [
       "<Figure size 640x480 with 1 Axes>"
      ]
     },
     "metadata": {},
     "output_type": "display_data"
    }
   ],
   "source": [
    "plt.plot(history.history['top_k_categorical_accuracy'])\n",
    "plt.plot(history.history['val_top_k_categorical_accuracy'])\n",
    "plt.title('model performance')\n",
    "plt.ylabel('t_K_CCA')\n",
    "plt.xlabel('epoch')\n",
    "plt.legend(['train', 'val'])\n",
    "plt.show()"
   ]
  },
  {
   "cell_type": "code",
   "execution_count": 32,
   "metadata": {},
   "outputs": [],
   "source": [
    "# %pip install seaborn"
   ]
  },
  {
   "cell_type": "code",
   "execution_count": 37,
   "metadata": {},
   "outputs": [
    {
     "name": "stdout",
     "output_type": "stream",
     "text": [
      "\u001b[1m11/11\u001b[0m \u001b[32m━━━━━━━━━━━━━━━━━━━━\u001b[0m\u001b[37m\u001b[0m \u001b[1m0s\u001b[0m 3ms/step \n"
     ]
    }
   ],
   "source": [
    "y_pred = model.predict(X_test)\n",
    "y_pred_classes = tf.argmax(y_pred, axis=1)\n",
    "y_true_classes = tf.argmax(y_test, axis=1)"
   ]
  },
  {
   "cell_type": "code",
   "execution_count": 39,
   "metadata": {},
   "outputs": [],
   "source": [
    "confusion_mtx = tf.math.confusion_matrix(y_true_classes, y_pred_classes, num_classes=13)"
   ]
  },
  {
   "cell_type": "code",
   "execution_count": null,
   "metadata": {},
   "outputs": [
    {
     "data": {
      "text/plain": [
       "<Axes: >"
      ]
     },
     "execution_count": 42,
     "metadata": {},
     "output_type": "execute_result"
    },
    {
     "data": {
      "image/png": "[encoded data removed]",
      "text/plain": [
       "<Figure size 640x480 with 2 Axes>"
      ]
     },
     "metadata": {},
     "output_type": "display_data"
    }
   ],
   "source": [
    "import seaborn as sns\n",
    "labels = ['a', 'am', 'bm', 'c', 'd', 'dm', 'e', 'em', 'f', 'g', 'b', 'a#', 'a#m']\n",
    "sns.heatmap(confusion_mtx, annot=True, fmt='g', xticklabels=labels, yticklabels=labels,cmap='coolwarm') #, vmin=0, vmax=30"
   ]
  },
  {
   "cell_type": "code",
   "execution_count": 41,
   "metadata": {},
   "outputs": [
    {
     "name": "stdout",
     "output_type": "stream",
     "text": [
      "End\n"
     ]
    }
   ],
   "source": [
    "print('End')"
   ]
  },
  {
   "cell_type": "markdown",
   "metadata": {},
   "source": [
    "#### PCP bar graphs"
   ]
  },
  {
   "cell_type": "code",
   "execution_count": 104,
   "metadata": {},
   "outputs": [],
   "source": [
    "import matplotlib.pyplot as plt\n"
   ]
  },
  {
   "cell_type": "code",
   "execution_count": 32,
   "metadata": {},
   "outputs": [
    {
     "ename": "SyntaxError",
     "evalue": "invalid syntax (1408906040.py, line 16)",
     "output_type": "error",
     "traceback": [
      "\u001b[1;36m  Cell \u001b[1;32mIn[32], line 16\u001b[1;36m\u001b[0m\n\u001b[1;33m    pitch =\u001b[0m\n\u001b[1;37m            ^\u001b[0m\n\u001b[1;31mSyntaxError\u001b[0m\u001b[1;31m:\u001b[0m invalid syntax\n"
     ]
    }
   ],
   "source": [
    "pitch = [\n",
    "            0.0023146720618913187,\n",
    "            0.13541123174584477,\n",
    "            0.002753804814052944,\n",
    "            0.0016777679064559055,\n",
    "            0.22138365360133072,\n",
    "            0.005979670177444035,\n",
    "            0.006189081758443196,\n",
    "            0.013713444747058249,\n",
    "            0.08279445457778613,\n",
    "            0.5082383956629952,\n",
    "            0.007580531012396195,\n",
    "            0.01196329193430142\n",
    "        ]\n",
    "\n",
    "pitch = \n",
    "\n",
    "objects = ('C', 'C#', 'D', 'D#', 'E', 'F', 'F#', 'G', 'G#', 'A', 'A#', 'B')\n",
    "y_pos = np.arange(len(objects))\n",
    "plt.bar(y_pos, pitch, align='center', alpha=1.0)\n",
    "plt.xticks(y_pos, objects)\n",
    "plt.ylabel('Energy')\n",
    "plt.title('PCP results')\n",
    "plt.show()"
   ]
  },
  {
   "cell_type": "code",
   "execution_count": null,
   "metadata": {},
   "outputs": [],
   "source": []
  },
  {
   "cell_type": "code",
   "execution_count": null,
   "metadata": {},
   "outputs": [],
   "source": []
  }
 ],
 "metadata": {
  "kernelspec": {
   "display_name": ".venv",
   "language": "python",
   "name": "python3"
  },
  "language_info": {
   "codemirror_mode": {
    "name": "ipython",
    "version": 3
   },
   "file_extension": ".py",
   "mimetype": "text/x-python",
   "name": "python",
   "nbconvert_exporter": "python",
   "pygments_lexer": "ipython3",
   "version": "3.11.3"
  }
 },
 "nbformat": 4,
 "nbformat_minor": 2
}
